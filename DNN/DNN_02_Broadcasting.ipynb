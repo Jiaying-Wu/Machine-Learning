{
 "cells": [
  {
   "cell_type": "code",
   "execution_count": 3,
   "id": "47f5f313",
   "metadata": {
    "ExecuteTime": {
     "end_time": "2021-09-19T12:42:27.423033Z",
     "start_time": "2021-09-19T12:42:27.415670Z"
    }
   },
   "outputs": [
    {
     "name": "stdout",
     "output_type": "stream",
     "text": [
      "[[ 56.    0.    4.4  68. ]\n",
      " [  1.2 104.   52.    8. ]\n",
      " [  1.8 135.   99.    0.9]]\n"
     ]
    }
   ],
   "source": [
    "import numpy as np\n",
    "\n",
    "A = np.array([\n",
    "    [56.0, 0.0, 4.4, 68.0],\n",
    "    [1.2, 104.0, 52.0, 8.0],\n",
    "    [1.8, 135.0, 99.0, 0.9]\n",
    "])\n",
    "\n",
    "print(A)"
   ]
  },
  {
   "cell_type": "code",
   "execution_count": 4,
   "id": "21be380f",
   "metadata": {
    "ExecuteTime": {
     "end_time": "2021-09-20T00:49:23.583531Z",
     "start_time": "2021-09-20T00:49:23.551434Z"
    }
   },
   "outputs": [
    {
     "name": "stdout",
     "output_type": "stream",
     "text": [
      "[ 59.  239.  155.4  76.9]\n"
     ]
    }
   ],
   "source": [
    "# sum vertically\n",
    "cal = A.sum(axis = 0)\n",
    "print(cal)"
   ]
  },
  {
   "cell_type": "code",
   "execution_count": 12,
   "id": "b9a01f32",
   "metadata": {
    "ExecuteTime": {
     "end_time": "2021-09-20T00:51:55.379190Z",
     "start_time": "2021-09-20T00:51:55.371355Z"
    }
   },
   "outputs": [
    {
     "name": "stdout",
     "output_type": "stream",
     "text": [
      "[[94.91525424  0.          2.83140283 88.42652796]\n",
      " [ 2.03389831 43.51464435 33.46203346 10.40312094]\n",
      " [ 3.05084746 56.48535565 63.70656371  1.17035111]]\n"
     ]
    }
   ],
   "source": [
    "# take a 3x4 matrix divide by 1x4 matrix, call reshape to make sure the dimension\n",
    "percentage = 100*A / cal.reshape(1,4)\n",
    "print(percentage)"
   ]
  },
  {
   "cell_type": "code",
   "execution_count": 14,
   "id": "8689732d",
   "metadata": {
    "ExecuteTime": {
     "end_time": "2021-09-20T01:10:46.675714Z",
     "start_time": "2021-09-20T01:10:46.666149Z"
    }
   },
   "outputs": [
    {
     "data": {
      "text/plain": [
       "array([[101],\n",
       "       [102],\n",
       "       [103],\n",
       "       [104]])"
      ]
     },
     "execution_count": 14,
     "metadata": {},
     "output_type": "execute_result"
    }
   ],
   "source": [
    "B = np.array([\n",
    "    [1, 2, 3, 4]\n",
    "])\n",
    "# automatically copy 100 4 times into a 4x1 matrix\n",
    "B.T + 100"
   ]
  },
  {
   "cell_type": "code",
   "execution_count": 15,
   "id": "ff7e4f87",
   "metadata": {
    "ExecuteTime": {
     "end_time": "2021-09-20T01:13:37.750995Z",
     "start_time": "2021-09-20T01:13:37.740729Z"
    }
   },
   "outputs": [
    {
     "data": {
      "text/plain": [
       "array([[101, 202, 303],\n",
       "       [104, 205, 306]])"
      ]
     },
     "execution_count": 15,
     "metadata": {},
     "output_type": "execute_result"
    }
   ],
   "source": [
    "# (m,n) matrix\n",
    "C = np.array([\n",
    "    [1, 2, 3],\n",
    "    [4, 5, 6]\n",
    "])\n",
    "\n",
    "# (1,n) matrix\n",
    "D = np.array([\n",
    "    [100, 200, 300]\n",
    "])\n",
    "\n",
    "# It will take the (1,n) matrix copy m times, then add them up\n",
    "C + D"
   ]
  },
  {
   "cell_type": "code",
   "execution_count": 16,
   "id": "c1e5a189",
   "metadata": {
    "ExecuteTime": {
     "end_time": "2021-09-20T01:16:41.363743Z",
     "start_time": "2021-09-20T01:16:41.336516Z"
    }
   },
   "outputs": [
    {
     "data": {
      "text/plain": [
       "array([[101, 102, 103],\n",
       "       [204, 205, 206]])"
      ]
     },
     "execution_count": 16,
     "metadata": {},
     "output_type": "execute_result"
    }
   ],
   "source": [
    "# (m,1) matrix\n",
    "E = np.array([\n",
    "    [100],\n",
    "    [200]\n",
    "])\n",
    "\n",
    "# It will take the (m,1) matrix copy n times, then add them up\n",
    "C + E"
   ]
  },
  {
   "cell_type": "code",
   "execution_count": 17,
   "id": "fea03f50",
   "metadata": {
    "ExecuteTime": {
     "end_time": "2021-09-20T01:45:43.018180Z",
     "start_time": "2021-09-20T01:45:43.009068Z"
    }
   },
   "outputs": [
    {
     "name": "stdout",
     "output_type": "stream",
     "text": [
      "[-2.07384023 -0.26862655  2.26667971 -0.13077627 -0.57551958]\n"
     ]
    }
   ],
   "source": [
    "a = np.random.randn(5)\n",
    "print(a)"
   ]
  },
  {
   "cell_type": "code",
   "execution_count": 18,
   "id": "d2284ad3",
   "metadata": {
    "ExecuteTime": {
     "end_time": "2021-09-20T01:46:05.068219Z",
     "start_time": "2021-09-20T01:46:05.062512Z"
    }
   },
   "outputs": [
    {
     "name": "stdout",
     "output_type": "stream",
     "text": [
      "(5,)\n"
     ]
    }
   ],
   "source": [
    "# rank 1 array, neither a row vector or column vector\n",
    "# Don't use this one\n",
    "print(a.shape)"
   ]
  },
  {
   "cell_type": "code",
   "execution_count": 19,
   "id": "1e52d32e",
   "metadata": {
    "ExecuteTime": {
     "end_time": "2021-09-20T01:46:37.457432Z",
     "start_time": "2021-09-20T01:46:37.451026Z"
    }
   },
   "outputs": [
    {
     "name": "stdout",
     "output_type": "stream",
     "text": [
      "[-2.07384023 -0.26862655  2.26667971 -0.13077627 -0.57551958]\n"
     ]
    }
   ],
   "source": [
    "print(a.T)"
   ]
  },
  {
   "cell_type": "code",
   "execution_count": 20,
   "id": "564ef9ca",
   "metadata": {
    "ExecuteTime": {
     "end_time": "2021-09-20T01:47:17.844493Z",
     "start_time": "2021-09-20T01:47:17.786536Z"
    }
   },
   "outputs": [
    {
     "name": "stdout",
     "output_type": "stream",
     "text": [
      "9.859135653833807\n"
     ]
    }
   ],
   "source": [
    "print(np.dot(a, a.T))"
   ]
  },
  {
   "cell_type": "code",
   "execution_count": 21,
   "id": "1b942c41",
   "metadata": {
    "ExecuteTime": {
     "end_time": "2021-09-20T01:50:23.023152Z",
     "start_time": "2021-09-20T01:50:23.016974Z"
    }
   },
   "outputs": [
    {
     "name": "stdout",
     "output_type": "stream",
     "text": [
      "[[-0.95294955]\n",
      " [ 1.09283553]\n",
      " [-1.31502227]\n",
      " [ 2.32014486]\n",
      " [-0.17822014]]\n"
     ]
    }
   ],
   "source": [
    "a = np.random.randn(5,1)\n",
    "print(a)"
   ]
  },
  {
   "cell_type": "code",
   "execution_count": 22,
   "id": "df431808",
   "metadata": {
    "ExecuteTime": {
     "end_time": "2021-09-20T01:50:38.563691Z",
     "start_time": "2021-09-20T01:50:38.557629Z"
    }
   },
   "outputs": [
    {
     "name": "stdout",
     "output_type": "stream",
     "text": [
      "[[-0.95294955  1.09283553 -1.31502227  2.32014486 -0.17822014]]\n"
     ]
    }
   ],
   "source": [
    "print(a.T)"
   ]
  },
  {
   "cell_type": "code",
   "execution_count": 23,
   "id": "e5b32fff",
   "metadata": {
    "ExecuteTime": {
     "end_time": "2021-09-20T01:51:27.716422Z",
     "start_time": "2021-09-20T01:51:27.706731Z"
    }
   },
   "outputs": [
    {
     "name": "stdout",
     "output_type": "stream",
     "text": [
      "[[ 0.90811285 -1.04141713  1.25314988 -2.21098101  0.1698348 ]\n",
      " [-1.04141713  1.19428949 -1.43710305  2.53553674 -0.1947653 ]\n",
      " [ 1.25314988 -1.43710305  1.72928356 -3.05104216  0.23436345]\n",
      " [-2.21098101  2.53553674 -3.05104216  5.38307219 -0.41349654]\n",
      " [ 0.1698348  -0.1947653   0.23436345 -0.41349654  0.03176242]]\n"
     ]
    }
   ],
   "source": [
    "print(np.dot(a, a.T))"
   ]
  },
  {
   "cell_type": "code",
   "execution_count": 24,
   "id": "e819680f",
   "metadata": {
    "ExecuteTime": {
     "end_time": "2021-09-20T01:54:38.852860Z",
     "start_time": "2021-09-20T01:54:38.848103Z"
    }
   },
   "outputs": [],
   "source": [
    "# make sure the shape is (5,1)\n",
    "assert(a.shape == (5,1))"
   ]
  }
 ],
 "metadata": {
  "kernelspec": {
   "display_name": "Python 3 (ipykernel)",
   "language": "python",
   "name": "python3"
  },
  "language_info": {
   "codemirror_mode": {
    "name": "ipython",
    "version": 3
   },
   "file_extension": ".py",
   "mimetype": "text/x-python",
   "name": "python",
   "nbconvert_exporter": "python",
   "pygments_lexer": "ipython3",
   "version": "3.7.10"
  },
  "varInspector": {
   "cols": {
    "lenName": 16,
    "lenType": 16,
    "lenVar": 40
   },
   "kernels_config": {
    "python": {
     "delete_cmd_postfix": "",
     "delete_cmd_prefix": "del ",
     "library": "var_list.py",
     "varRefreshCmd": "print(var_dic_list())"
    },
    "r": {
     "delete_cmd_postfix": ") ",
     "delete_cmd_prefix": "rm(",
     "library": "var_list.r",
     "varRefreshCmd": "cat(var_dic_list()) "
    }
   },
   "types_to_exclude": [
    "module",
    "function",
    "builtin_function_or_method",
    "instance",
    "_Feature"
   ],
   "window_display": false
  }
 },
 "nbformat": 4,
 "nbformat_minor": 5
}
